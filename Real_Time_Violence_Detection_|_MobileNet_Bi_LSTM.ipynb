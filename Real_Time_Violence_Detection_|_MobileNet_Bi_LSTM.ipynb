{
  "metadata": {
    "kernelspec": {
      "language": "python",
      "display_name": "Python 3",
      "name": "python3"
    },
    "language_info": {
      "name": "python",
      "version": "3.7.12",
      "mimetype": "text/x-python",
      "codemirror_mode": {
        "name": "ipython",
        "version": 3
      },
      "pygments_lexer": "ipython3",
      "nbconvert_exporter": "python",
      "file_extension": ".py"
    },
    "kaggle": {
      "accelerator": "none",
      "dataSources": [
        {
          "sourceId": 397693,
          "sourceType": "datasetVersion",
          "datasetId": 176381
        },
        {
          "sourceId": 27689,
          "sourceType": "modelInstanceVersion",
          "isSourceIdPinned": true,
          "modelInstanceId": 23327
        }
      ],
      "dockerImageVersionId": 30260,
      "isInternetEnabled": false,
      "language": "python",
      "sourceType": "notebook",
      "isGpuEnabled": false
    },
    "colab": {
      "name": "Real Time Violence Detection | MobileNet Bi-LSTM",
      "provenance": [],
      "include_colab_link": true
    }
  },
  "nbformat_minor": 0,
  "nbformat": 4,
  "cells": [
    {
      "cell_type": "markdown",
      "metadata": {
        "id": "view-in-github",
        "colab_type": "text"
      },
      "source": [
        "<a href=\"https://colab.research.google.com/github/PranavkrishnaVadhyar/Realtime-Violence-Detection-/blob/main/Real_Time_Violence_Detection_%7C_MobileNet_Bi_LSTM.ipynb\" target=\"_parent\"><img src=\"https://colab.research.google.com/assets/colab-badge.svg\" alt=\"Open In Colab\"/></a>"
      ]
    },
    {
      "source": [
        "\n",
        "\n",
        "import os\n",
        "import sys\n",
        "from tempfile import NamedTemporaryFile\n",
        "from urllib.request import urlopen\n",
        "from urllib.parse import unquote, urlparse\n",
        "from urllib.error import HTTPError\n",
        "from zipfile import ZipFile\n",
        "import tarfile\n",
        "import shutil\n",
        "\n",
        "CHUNK_SIZE = 40960\n",
        "DATA_SOURCE_MAPPING = 'real-life-violence-situations-dataset:https%3A%2F%2Fstorage.googleapis.com%2Fkaggle-data-sets%2F176381%2F397693%2Fbundle%2Farchive.zip%3FX-Goog-Algorithm%3DGOOG4-RSA-SHA256%26X-Goog-Credential%3Dgcp-kaggle-com%2540kaggle-161607.iam.gserviceaccount.com%252F20240506%252Fauto%252Fstorage%252Fgoog4_request%26X-Goog-Date%3D20240506T070246Z%26X-Goog-Expires%3D259200%26X-Goog-SignedHeaders%3Dhost%26X-Goog-Signature%3D1b4fe00cc338cc714ee71d18fbc43959d71e8d94c0b2541d968e351b09dcfb5bb44ee21b92c235a148a795fd0eda261f03115c0d74712fb86fe7f598e9e461debaa6812c658c57213ec9fe3c232bf49673bab5c8e3c794f31ef4f0eefd36c22315f3380bd10e422297aa0d59d9eef37de1bfc119ef368d8da5739c81f5cb7666d7741c0c443e4466ae08ff70ef9ecb19f59c70a907b61e6c2d3bf455efb655d202e609a757c1437c84315f20caf9b49da0a3daeac62ab00679de6bb10554eaff016f5c773c2ff13a839824c5e28fffc4885b92eaa931820c2ce267f9cea0fcdabc3e317a385bacac6de1f0150a9d3f1903f0008e77c125dc2ea2aea57ec884f2,weights/other/weight/1:https%3A%2F%2Fstorage.googleapis.com%2Fkaggle-models-data%2F23327%2F27689%2Fbundle%2Farchive.tar.gz%3FX-Goog-Algorithm%3DGOOG4-RSA-SHA256%26X-Goog-Credential%3Dgcp-kaggle-com%2540kaggle-161607.iam.gserviceaccount.com%252F20240506%252Fauto%252Fstorage%252Fgoog4_request%26X-Goog-Date%3D20240506T070247Z%26X-Goog-Expires%3D259200%26X-Goog-SignedHeaders%3Dhost%26X-Goog-Signature%3D8e9e049ea574d5fb85f9db8b6e63ec11aa2c2053df6506225476bcfbd13d65f4c5851e79b88715056fd28a7672b803f20770d1456e59f4caa9919f79b44d3b7a0d0d709b4b64fa205605a64521091cfd7f3184e6ef4006d1452fe517fc6dbf1268940364742e0ae6aede5710c3362c22cdb00ca9911014674ce58ac4228f25c4715e9b29fd193e603492dfda9c78b6ddf13f00f9d8b877d66f56395e6a5e27e4a5e7ff312884177d6d8cbe7a3822741ef25022864dd6db3d04c461ad622ea6a04bf9dfae435a4f5ca0861e030d8f28863b2c89ef897519d73cfa05243d955281cc1e688de20880f43ea53baa09ec7407780b0b901bfb41efa2cdf25cb0742b9b'\n",
        "\n",
        "KAGGLE_INPUT_PATH='/kaggle/input'\n",
        "KAGGLE_WORKING_PATH='/kaggle/working'\n",
        "KAGGLE_SYMLINK='kaggle'\n",
        "\n",
        "!umount /kaggle/input/ 2> /dev/null\n",
        "shutil.rmtree('/kaggle/input', ignore_errors=True)\n",
        "os.makedirs(KAGGLE_INPUT_PATH, 0o777, exist_ok=True)\n",
        "os.makedirs(KAGGLE_WORKING_PATH, 0o777, exist_ok=True)\n",
        "\n",
        "try:\n",
        "  os.symlink(KAGGLE_INPUT_PATH, os.path.join(\"..\", 'input'), target_is_directory=True)\n",
        "except FileExistsError:\n",
        "  pass\n",
        "try:\n",
        "  os.symlink(KAGGLE_WORKING_PATH, os.path.join(\"..\", 'working'), target_is_directory=True)\n",
        "except FileExistsError:\n",
        "  pass\n",
        "\n",
        "for data_source_mapping in DATA_SOURCE_MAPPING.split(','):\n",
        "    directory, download_url_encoded = data_source_mapping.split(':')\n",
        "    download_url = unquote(download_url_encoded)\n",
        "    filename = urlparse(download_url).path\n",
        "    destination_path = os.path.join(KAGGLE_INPUT_PATH, directory)\n",
        "    try:\n",
        "        with urlopen(download_url) as fileres, NamedTemporaryFile() as tfile:\n",
        "            total_length = fileres.headers['content-length']\n",
        "            print(f'Downloading {directory}, {total_length} bytes compressed')\n",
        "            dl = 0\n",
        "            data = fileres.read(CHUNK_SIZE)\n",
        "            while len(data) > 0:\n",
        "                dl += len(data)\n",
        "                tfile.write(data)\n",
        "                done = int(50 * dl / int(total_length))\n",
        "                sys.stdout.write(f\"\\r[{'=' * done}{' ' * (50-done)}] {dl} bytes downloaded\")\n",
        "                sys.stdout.flush()\n",
        "                data = fileres.read(CHUNK_SIZE)\n",
        "            if filename.endswith('.zip'):\n",
        "              with ZipFile(tfile) as zfile:\n",
        "                zfile.extractall(destination_path)\n",
        "            else:\n",
        "              with tarfile.open(tfile.name) as tarfile:\n",
        "                tarfile.extractall(destination_path)\n",
        "            print(f'\\nDownloaded and uncompressed: {directory}')\n",
        "    except HTTPError as e:\n",
        "        print(f'Failed to load (likely expired) {download_url} to path {destination_path}')\n",
        "        continue\n",
        "    except OSError as e:\n",
        "        print(f'Failed to load {download_url} to path {destination_path}')\n",
        "        continue\n",
        "\n",
        "print('Data source import complete.')\n"
      ],
      "metadata": {
        "id": "q2MjwnU9tlgy"
      },
      "cell_type": "code",
      "outputs": [],
      "execution_count": null
    },
    {
      "cell_type": "markdown",
      "source": [
        "# **Importing the required libraries**"
      ],
      "metadata": {
        "id": "ZsKYkocGm0La"
      }
    },
    {
      "cell_type": "code",
      "source": [
        "import os\n",
        "import shutil\n",
        "import cv2\n",
        "import math\n",
        "import random\n",
        "import numpy as np\n",
        "import datetime as dt\n",
        "import tensorflow\n",
        "import keras\n",
        "from collections import deque\n",
        "import matplotlib.pyplot as plt\n",
        "plt.style.use(\"seaborn\")\n",
        "\n",
        "%matplotlib inline\n",
        "\n",
        "from sklearn.model_selection import train_test_split\n",
        "\n",
        "from keras.layers import *\n",
        "from keras.models import Sequential\n",
        "from tensorflow.keras.utils import to_categorical\n",
        "from keras.callbacks import EarlyStopping\n",
        "from tensorflow.keras.utils import plot_model"
      ],
      "metadata": {
        "id": "KN35l9ZJ3aTh",
        "execution": {
          "iopub.status.busy": "2024-04-10T15:46:57.960511Z",
          "iopub.execute_input": "2024-04-10T15:46:57.961063Z",
          "iopub.status.idle": "2024-04-10T15:47:05.704326Z",
          "shell.execute_reply.started": "2024-04-10T15:46:57.960946Z",
          "shell.execute_reply": "2024-04-10T15:47:05.703017Z"
        },
        "trusted": true
      },
      "execution_count": null,
      "outputs": []
    },
    {
      "cell_type": "markdown",
      "source": [
        "# **Visualize the Data**"
      ],
      "metadata": {
        "id": "2JxJyU0e3aTn"
      }
    },
    {
      "cell_type": "code",
      "source": [
        "from IPython.display import HTML\n",
        "from base64 import b64encode\n",
        "\n",
        "# To Show a Video in Notebook\n",
        "def Play_Video(filepath):\n",
        "    html = ''\n",
        "    video = open(filepath,'rb').read()\n",
        "    src = 'data:video/mp4;base64,' + b64encode(video).decode()\n",
        "    html += '<video width=640 muted controls autoplay loop><source src=\"%s\" type=\"video/mp4\"></video>' % src\n",
        "    return HTML(html)"
      ],
      "metadata": {
        "id": "Sn7l5xJlmtrf",
        "execution": {
          "iopub.status.busy": "2024-04-08T13:49:02.756114Z",
          "iopub.execute_input": "2024-04-08T13:49:02.756613Z",
          "iopub.status.idle": "2024-04-08T13:49:02.764057Z",
          "shell.execute_reply.started": "2024-04-08T13:49:02.756565Z",
          "shell.execute_reply": "2024-04-08T13:49:02.762884Z"
        },
        "trusted": true
      },
      "execution_count": null,
      "outputs": []
    },
    {
      "cell_type": "code",
      "source": [
        "# Classes Directories\n",
        "NonViolnceVideos_Dir = \"../input/real-life-violence-situations-dataset/Real Life Violence Dataset/NonViolence/\"\n",
        "ViolnceVideos_Dir = \"../input/real-life-violence-situations-dataset/Real Life Violence Dataset/Violence/\"\n",
        "\n",
        "# Retrieve the list of all the video files present in the Class Directory.\n",
        "NonViolence_files_names_list = os.listdir(NonViolnceVideos_Dir)\n",
        "Violence_files_names_list = os.listdir(ViolnceVideos_Dir)\n",
        "\n",
        "# Randomly select a video file from the Classes Directory.\n",
        "Random_NonViolence_Video = random.choice(NonViolence_files_names_list)\n",
        "Random_Violence_Video = random.choice(Violence_files_names_list)"
      ],
      "metadata": {
        "_uuid": "8f2839f25d086af736a60e9eeb907d3b93b6e0e5",
        "_cell_guid": "b1076dfc-b9ad-4769-8c92-a6c4dae69d19",
        "id": "WzJy3lsU3aTp",
        "execution": {
          "iopub.status.busy": "2024-04-08T13:49:45.231589Z",
          "iopub.execute_input": "2024-04-08T13:49:45.232365Z",
          "iopub.status.idle": "2024-04-08T13:49:45.243859Z",
          "shell.execute_reply.started": "2024-04-08T13:49:45.23231Z",
          "shell.execute_reply": "2024-04-08T13:49:45.242613Z"
        },
        "trusted": true
      },
      "execution_count": null,
      "outputs": []
    },
    {
      "cell_type": "markdown",
      "source": [
        "**Play Random Non Violence Video**"
      ],
      "metadata": {
        "id": "pq5KrFGd-HJ6"
      }
    },
    {
      "cell_type": "code",
      "source": [
        "Play_Video(f\"{NonViolnceVideos_Dir}/{Random_NonViolence_Video}\")"
      ],
      "metadata": {
        "id": "P2wg6bCP9C3S",
        "execution": {
          "iopub.status.busy": "2024-04-08T13:49:56.765594Z",
          "iopub.execute_input": "2024-04-08T13:49:56.76613Z",
          "iopub.status.idle": "2024-04-08T13:49:56.812083Z",
          "shell.execute_reply.started": "2024-04-08T13:49:56.766089Z",
          "shell.execute_reply": "2024-04-08T13:49:56.810957Z"
        },
        "trusted": true
      },
      "execution_count": null,
      "outputs": []
    },
    {
      "cell_type": "markdown",
      "source": [
        "**Play Random Violence Video**"
      ],
      "metadata": {
        "id": "eDllFj2y-LXj"
      }
    },
    {
      "cell_type": "code",
      "source": [
        "Play_Video(f\"{ViolnceVideos_Dir}/{Random_Violence_Video}\")"
      ],
      "metadata": {
        "id": "AdbW5DIYnk2D",
        "execution": {
          "iopub.status.busy": "2024-04-08T13:50:14.996149Z",
          "iopub.execute_input": "2024-04-08T13:50:14.996679Z",
          "iopub.status.idle": "2024-04-08T13:50:15.041185Z",
          "shell.execute_reply.started": "2024-04-08T13:50:14.996641Z",
          "shell.execute_reply": "2024-04-08T13:50:15.039513Z"
        },
        "trusted": true
      },
      "execution_count": null,
      "outputs": []
    },
    {
      "cell_type": "markdown",
      "source": [
        "# **Extracting Frames**"
      ],
      "metadata": {
        "id": "ySOhHqy83aTq"
      }
    },
    {
      "cell_type": "code",
      "source": [
        "# Specify the height and width to which each video frame will be resized in our dataset.\n",
        "IMAGE_HEIGHT , IMAGE_WIDTH = 64, 64\n",
        "\n",
        "# Specify the number of frames of a video that will be fed to the model as one sequence.\n",
        "SEQUENCE_LENGTH = 16\n",
        "\n",
        "\n",
        "DATASET_DIR = \"../input/real-life-violence-situations-dataset/Real Life Violence Dataset/\"\n",
        "\n",
        "CLASSES_LIST = [\"NonViolence\",\"Violence\"]"
      ],
      "metadata": {
        "id": "1arHoOHI3aTr",
        "execution": {
          "iopub.status.busy": "2024-04-08T13:51:00.216764Z",
          "iopub.execute_input": "2024-04-08T13:51:00.217259Z",
          "iopub.status.idle": "2024-04-08T13:51:00.224662Z",
          "shell.execute_reply.started": "2024-04-08T13:51:00.217221Z",
          "shell.execute_reply": "2024-04-08T13:51:00.223287Z"
        },
        "trusted": true
      },
      "execution_count": null,
      "outputs": []
    },
    {
      "cell_type": "code",
      "source": [
        "def frames_extraction(video_path):\n",
        "\n",
        "    frames_list = []\n",
        "\n",
        "    # Read the Video File\n",
        "    video_reader = cv2.VideoCapture(video_path)\n",
        "\n",
        "    # Get the total number of frames in the video.\n",
        "    video_frames_count = int(video_reader.get(cv2.CAP_PROP_FRAME_COUNT))\n",
        "\n",
        "    # Calculate the the interval after which frames will be added to the list.\n",
        "    skip_frames_window = max(int(video_frames_count/SEQUENCE_LENGTH), 1)\n",
        "\n",
        "    # Iterate through the Video Frames.\n",
        "    for frame_counter in range(SEQUENCE_LENGTH):\n",
        "\n",
        "        # Set the current frame position of the video.\n",
        "        video_reader.set(cv2.CAP_PROP_POS_FRAMES, frame_counter * skip_frames_window)\n",
        "\n",
        "        # Reading the frame from the video.\n",
        "        success, frame = video_reader.read()\n",
        "\n",
        "        if not success:\n",
        "            break\n",
        "\n",
        "        # Resize the Frame to fixed height and width.\n",
        "        resized_frame = cv2.resize(frame, (IMAGE_HEIGHT, IMAGE_WIDTH))\n",
        "\n",
        "        # Normalize the resized frame\n",
        "        normalized_frame = resized_frame / 255\n",
        "\n",
        "        # Append the normalized frame into the frames list\n",
        "        frames_list.append(normalized_frame)\n",
        "\n",
        "\n",
        "    video_reader.release()\n",
        "\n",
        "    return frames_list"
      ],
      "metadata": {
        "id": "-yB8ePeC3aTs",
        "execution": {
          "iopub.status.busy": "2024-04-08T13:51:06.386462Z",
          "iopub.execute_input": "2024-04-08T13:51:06.388061Z",
          "iopub.status.idle": "2024-04-08T13:51:06.401391Z",
          "shell.execute_reply.started": "2024-04-08T13:51:06.387996Z",
          "shell.execute_reply": "2024-04-08T13:51:06.39945Z"
        },
        "trusted": true
      },
      "execution_count": null,
      "outputs": []
    },
    {
      "cell_type": "markdown",
      "source": [
        "# **Creating the Data**"
      ],
      "metadata": {
        "id": "uqAqiZxD3aTt"
      }
    },
    {
      "cell_type": "code",
      "source": [
        "def create_dataset():\n",
        "\n",
        "    features = []\n",
        "    labels = []\n",
        "    video_files_paths = []\n",
        "\n",
        "    # Iterating through all the classes.\n",
        "    for class_index, class_name in enumerate(CLASSES_LIST):\n",
        "\n",
        "        print(f'Extracting Data of Class: {class_name}')\n",
        "\n",
        "        # Get the list of video files present in the specific class name directory.\n",
        "        files_list = os.listdir(os.path.join(DATASET_DIR, class_name))\n",
        "\n",
        "        # Iterate through all the files present in the files list.\n",
        "        for file_name in files_list:\n",
        "\n",
        "            # Get the complete video path.\n",
        "            video_file_path = os.path.join(DATASET_DIR, class_name, file_name)\n",
        "\n",
        "            # Extract the frames of the video file.\n",
        "            frames = frames_extraction(video_file_path)\n",
        "\n",
        "            # Check if the extracted frames are equal to the SEQUENCE_LENGTH specified.\n",
        "            # So ignore the vides having frames less than the SEQUENCE_LENGTH.\n",
        "            if len(frames) == SEQUENCE_LENGTH:\n",
        "\n",
        "                # Append the data to their repective lists.\n",
        "                features.append(frames)\n",
        "                labels.append(class_index)\n",
        "                video_files_paths.append(video_file_path)\n",
        "\n",
        "    features = np.asarray(features)\n",
        "    labels = np.array(labels)\n",
        "\n",
        "    return features, labels, video_files_paths"
      ],
      "metadata": {
        "id": "vj_AQqju3aTu",
        "execution": {
          "iopub.status.busy": "2024-04-08T13:51:12.927874Z",
          "iopub.execute_input": "2024-04-08T13:51:12.928359Z",
          "iopub.status.idle": "2024-04-08T13:51:12.943358Z",
          "shell.execute_reply.started": "2024-04-08T13:51:12.928321Z",
          "shell.execute_reply": "2024-04-08T13:51:12.941755Z"
        },
        "trusted": true
      },
      "execution_count": null,
      "outputs": []
    },
    {
      "cell_type": "code",
      "source": [
        "# Create the dataset.\n",
        "features, labels, video_files_paths = create_dataset()"
      ],
      "metadata": {
        "id": "rgpokUY83aTv",
        "execution": {
          "iopub.status.busy": "2024-04-08T13:51:18.576502Z",
          "iopub.execute_input": "2024-04-08T13:51:18.576998Z",
          "iopub.status.idle": "2024-04-08T14:16:51.384761Z",
          "shell.execute_reply.started": "2024-04-08T13:51:18.576962Z",
          "shell.execute_reply": "2024-04-08T14:16:51.38285Z"
        },
        "trusted": true
      },
      "execution_count": null,
      "outputs": []
    },
    {
      "cell_type": "code",
      "source": [
        "# Saving the extracted data\n",
        "np.save(\"features.npy\",features)\n",
        "np.save(\"labels.npy\",labels)\n",
        "np.save(\"video_files_paths.npy\",video_files_paths)"
      ],
      "metadata": {
        "id": "Hu8NKv4H3aTv",
        "execution": {
          "iopub.status.busy": "2024-04-08T14:21:42.788453Z",
          "iopub.execute_input": "2024-04-08T14:21:42.789814Z",
          "iopub.status.idle": "2024-04-08T14:21:49.653316Z",
          "shell.execute_reply.started": "2024-04-08T14:21:42.789751Z",
          "shell.execute_reply": "2024-04-08T14:21:49.650939Z"
        },
        "trusted": true
      },
      "execution_count": null,
      "outputs": []
    },
    {
      "cell_type": "code",
      "source": [
        "features, labels, video_files_paths = np.load(\"features.npy\") , np.load(\"labels.npy\") ,  np.load(\"video_files_paths.npy\")"
      ],
      "metadata": {
        "id": "9KOPtXlH3aTw",
        "execution": {
          "iopub.status.busy": "2024-04-08T14:21:56.765876Z",
          "iopub.execute_input": "2024-04-08T14:21:56.76658Z",
          "iopub.status.idle": "2024-04-08T14:22:04.469419Z",
          "shell.execute_reply.started": "2024-04-08T14:21:56.766503Z",
          "shell.execute_reply": "2024-04-08T14:22:04.464663Z"
        },
        "trusted": true
      },
      "execution_count": null,
      "outputs": []
    },
    {
      "cell_type": "markdown",
      "source": [
        "# **Encoding and Splitting Training-Testing Sets**"
      ],
      "metadata": {
        "id": "lkN8bgxH3aTw"
      }
    },
    {
      "cell_type": "code",
      "source": [
        "# convert labels into one-hot-encoded vectors\n",
        "one_hot_encoded_labels = to_categorical(labels)"
      ],
      "metadata": {
        "id": "SIN6V5GN3aTw",
        "execution": {
          "iopub.status.busy": "2024-04-08T14:22:12.146001Z",
          "iopub.execute_input": "2024-04-08T14:22:12.149129Z",
          "iopub.status.idle": "2024-04-08T14:22:12.166312Z",
          "shell.execute_reply.started": "2024-04-08T14:22:12.148899Z",
          "shell.execute_reply": "2024-04-08T14:22:12.16249Z"
        },
        "trusted": true
      },
      "execution_count": null,
      "outputs": []
    },
    {
      "cell_type": "code",
      "source": [
        "# Split the Data into Train ( 90% ) and Test Set ( 10% ).\n",
        "features_train, features_test, labels_train, labels_test = train_test_split(features, one_hot_encoded_labels, test_size = 0.1,\n",
        "                                                                            shuffle = True, random_state = 42)"
      ],
      "metadata": {
        "id": "P0uFnKvq3aTx",
        "execution": {
          "iopub.status.busy": "2024-04-08T14:22:15.706399Z",
          "iopub.execute_input": "2024-04-08T14:22:15.708022Z",
          "iopub.status.idle": "2024-04-08T14:22:19.084301Z",
          "shell.execute_reply.started": "2024-04-08T14:22:15.707962Z",
          "shell.execute_reply": "2024-04-08T14:22:19.08251Z"
        },
        "trusted": true
      },
      "execution_count": null,
      "outputs": []
    },
    {
      "cell_type": "code",
      "source": [
        "print(features_train.shape,labels_train.shape )\n",
        "print(features_test.shape, labels_test.shape)"
      ],
      "metadata": {
        "id": "8X0LeeVW3aTx",
        "execution": {
          "iopub.status.busy": "2024-04-08T14:22:24.991143Z",
          "iopub.execute_input": "2024-04-08T14:22:24.991805Z",
          "iopub.status.idle": "2024-04-08T14:22:25.000394Z",
          "shell.execute_reply.started": "2024-04-08T14:22:24.991752Z",
          "shell.execute_reply": "2024-04-08T14:22:24.998777Z"
        },
        "trusted": true
      },
      "execution_count": null,
      "outputs": []
    },
    {
      "cell_type": "markdown",
      "source": [
        "# **Importing MobileNet and Fine-Tuning it.**"
      ],
      "metadata": {
        "id": "bLGa3mfdtu_K"
      }
    },
    {
      "cell_type": "code",
      "source": [
        "from keras.applications.mobilenet_v2 import MobileNetV2\n",
        "import os\n",
        "\n",
        "# Specify the correct local path to the downloaded weights file\n",
        "weights_dir = '/kaggle/input/weights/other/weight/1'  # Directory containing the weights file\n",
        "weights_filename = 'mobilenet_v2_weights_tf_dim_ordering_tf_kernels_1.0_224_no_top.h5'  # Actual weights file name\n",
        "\n",
        "# Check if the weights file exists at the specified path\n",
        "weights_path = os.path.join(weights_dir, weights_filename)\n",
        "if not os.path.exists(weights_path):\n",
        "    # Handle the case where the file is not found\n",
        "    print(\"Weights file not found at the specified path.\")\n",
        "else:\n",
        "    # Initialize MobileNetV2 with the local weights file\n",
        "    mobilenet = MobileNetV2(include_top=False, weights=weights_path)\n",
        "\n",
        "    # Fine-Tuning to make the last 40 layers trainable\n",
        "    mobilenet.trainable = True\n",
        "\n",
        "    for layer in mobilenet.layers[:-40]:\n",
        "        layer.trainable = False\n",
        "\n",
        "    # mobilenet.summary()\n",
        "\n"
      ],
      "metadata": {
        "id": "Tpo2Q-Uf3aT8",
        "execution": {
          "iopub.status.busy": "2024-04-08T14:31:30.875411Z",
          "iopub.execute_input": "2024-04-08T14:31:30.876881Z",
          "iopub.status.idle": "2024-04-08T14:31:32.513384Z",
          "shell.execute_reply.started": "2024-04-08T14:31:30.876829Z",
          "shell.execute_reply": "2024-04-08T14:31:32.512453Z"
        },
        "trusted": true
      },
      "execution_count": null,
      "outputs": []
    },
    {
      "cell_type": "markdown",
      "source": [
        "# **Building The Model**"
      ],
      "metadata": {
        "id": "PFfDOTnZ3aTy"
      }
    },
    {
      "cell_type": "code",
      "source": [
        "def create_model():\n",
        "\n",
        "    model = Sequential()\n",
        "\n",
        "    ########################################################################################################################\n",
        "\n",
        "    #Specifying Input to match features shape\n",
        "    model.add(Input(shape = (SEQUENCE_LENGTH, IMAGE_HEIGHT, IMAGE_WIDTH, 3)))\n",
        "\n",
        "    # Passing mobilenet in the TimeDistributed layer to handle the sequence\n",
        "    model.add(TimeDistributed(mobilenet))\n",
        "\n",
        "    model.add(Dropout(0.25))\n",
        "\n",
        "    model.add(TimeDistributed(Flatten()))\n",
        "\n",
        "\n",
        "    lstm_fw = LSTM(units=32)\n",
        "    lstm_bw = LSTM(units=32, go_backwards = True)\n",
        "\n",
        "    model.add(Bidirectional(lstm_fw, backward_layer = lstm_bw))\n",
        "\n",
        "    model.add(Dropout(0.25))\n",
        "\n",
        "    model.add(Dense(256,activation='relu'))\n",
        "    model.add(Dropout(0.25))\n",
        "\n",
        "    model.add(Dense(128,activation='relu'))\n",
        "    model.add(Dropout(0.25))\n",
        "\n",
        "    model.add(Dense(64,activation='relu'))\n",
        "    model.add(Dropout(0.25))\n",
        "\n",
        "    model.add(Dense(32,activation='relu'))\n",
        "    model.add(Dropout(0.25))\n",
        "\n",
        "\n",
        "    model.add(Dense(len(CLASSES_LIST), activation = 'softmax'))\n",
        "\n",
        "    ########################################################################################################################\n",
        "\n",
        "    model.summary()\n",
        "\n",
        "    return model"
      ],
      "metadata": {
        "id": "CWtYR7bM3aT9",
        "execution": {
          "iopub.status.busy": "2024-04-08T14:31:38.501854Z",
          "iopub.execute_input": "2024-04-08T14:31:38.502675Z",
          "iopub.status.idle": "2024-04-08T14:31:38.516613Z",
          "shell.execute_reply.started": "2024-04-08T14:31:38.502628Z",
          "shell.execute_reply": "2024-04-08T14:31:38.515359Z"
        },
        "trusted": true
      },
      "execution_count": null,
      "outputs": []
    },
    {
      "cell_type": "code",
      "source": [
        "# Constructing the Model\n",
        "MoBiLSTM_model = create_model()\n",
        "\n",
        "# Plot the structure of the contructed LRCN model.\n",
        "plot_model(MoBiLSTM_model, to_file = 'MobBiLSTM_model_structure_plot.png', show_shapes = True, show_layer_names = True)"
      ],
      "metadata": {
        "id": "auo9g9rpmBOS",
        "execution": {
          "iopub.status.busy": "2024-04-08T14:31:44.002343Z",
          "iopub.execute_input": "2024-04-08T14:31:44.002959Z",
          "iopub.status.idle": "2024-04-08T14:31:47.252396Z",
          "shell.execute_reply.started": "2024-04-08T14:31:44.002915Z",
          "shell.execute_reply": "2024-04-08T14:31:47.25023Z"
        },
        "trusted": true
      },
      "execution_count": null,
      "outputs": []
    },
    {
      "cell_type": "markdown",
      "source": [
        "# **Specifying Callbacks and Fitting**"
      ],
      "metadata": {
        "id": "c_jvIgP9wEh6"
      }
    },
    {
      "cell_type": "code",
      "source": [
        "# Create Early Stopping Callback to monitor the accuracy\n",
        "early_stopping_callback = EarlyStopping(monitor = 'val_accuracy', patience = 10, restore_best_weights = True)\n",
        "\n",
        "# Create ReduceLROnPlateau Callback to reduce overfitting by decreasing learning\n",
        "reduce_lr = tf.keras.callbacks.ReduceLROnPlateau(monitor='val_loss',\n",
        "                                                  factor=0.6,\n",
        "                                                  patience=5,\n",
        "                                                  min_lr=0.00005,\n",
        "                                                  verbose=1)\n",
        "\n",
        "# Compiling the model\n",
        "MoBiLSTM_model.compile(loss = 'categorical_crossentropy', optimizer = 'sgd', metrics = [\"accuracy\"])\n",
        "\n",
        "# Fitting the model\n",
        "MobBiLSTM_model_history = MoBiLSTM_model.fit(x = features_train, y = labels_train, epochs = 50, batch_size = 8 ,\n",
        "                                             shuffle = True, validation_split = 0.2, callbacks = [early_stopping_callback,reduce_lr])"
      ],
      "metadata": {
        "id": "oA-QWlSV3aT_",
        "scrolled": true,
        "execution": {
          "iopub.status.busy": "2024-04-08T14:31:52.581771Z",
          "iopub.execute_input": "2024-04-08T14:31:52.582425Z",
          "iopub.status.idle": "2024-04-08T15:55:06.820503Z",
          "shell.execute_reply.started": "2024-04-08T14:31:52.582372Z",
          "shell.execute_reply": "2024-04-08T15:55:06.818301Z"
        },
        "trusted": true
      },
      "execution_count": null,
      "outputs": []
    },
    {
      "cell_type": "code",
      "source": [
        "from keras.models import save_model\n",
        "\n",
        "# Assuming your trained model is stored in the variable 'MoBiLSTM_model'\n",
        "\n",
        "# Define the path where you want to save the model\n",
        "save_path = '/kaggle/working/MoBiLSTM_model.h5'\n",
        "\n",
        "# Save the model to the specified path\n",
        "save_model(MoBiLSTM_model, save_path)\n",
        "\n",
        "print(f\"Model saved to {save_path}\")\n"
      ],
      "metadata": {
        "execution": {
          "iopub.status.busy": "2024-04-08T15:58:31.251962Z",
          "iopub.execute_input": "2024-04-08T15:58:31.252605Z",
          "iopub.status.idle": "2024-04-08T15:58:31.563646Z",
          "shell.execute_reply.started": "2024-04-08T15:58:31.252559Z",
          "shell.execute_reply": "2024-04-08T15:58:31.562293Z"
        },
        "trusted": true,
        "id": "oRHNSPjBtlhW"
      },
      "execution_count": null,
      "outputs": []
    },
    {
      "cell_type": "code",
      "source": [
        "model_evaluation_history = MoBiLSTM_model.evaluate(features_test, labels_test)"
      ],
      "metadata": {
        "id": "6577H1to3aT_",
        "execution": {
          "iopub.status.busy": "2024-04-08T16:01:45.411433Z",
          "iopub.execute_input": "2024-04-08T16:01:45.412035Z",
          "iopub.status.idle": "2024-04-08T16:01:54.726625Z",
          "shell.execute_reply.started": "2024-04-08T16:01:45.411993Z",
          "shell.execute_reply": "2024-04-08T16:01:54.725155Z"
        },
        "trusted": true
      },
      "execution_count": null,
      "outputs": []
    },
    {
      "cell_type": "markdown",
      "source": [
        "# **Model Evaluation**"
      ],
      "metadata": {
        "id": "lPGXI4C53aUA"
      }
    },
    {
      "cell_type": "code",
      "source": [
        "def plot_metric(model_training_history, metric_name_1, metric_name_2, plot_name):\n",
        "\n",
        "    metric_value_1 = model_training_history.history[metric_name_1]\n",
        "    metric_value_2 = model_training_history.history[metric_name_2]\n",
        "\n",
        "    # Get the Epochs Count\n",
        "    epochs = range(len(metric_value_1))\n",
        "\n",
        "    plt.plot(epochs, metric_value_1, 'blue', label = metric_name_1)\n",
        "    plt.plot(epochs, metric_value_2, 'orange', label = metric_name_2)\n",
        "\n",
        "    plt.title(str(plot_name))\n",
        "\n",
        "    plt.legend()"
      ],
      "metadata": {
        "id": "hyHkkNo93aUB",
        "execution": {
          "iopub.status.busy": "2024-04-08T16:02:03.666884Z",
          "iopub.execute_input": "2024-04-08T16:02:03.667339Z",
          "iopub.status.idle": "2024-04-08T16:02:03.678499Z",
          "shell.execute_reply.started": "2024-04-08T16:02:03.667303Z",
          "shell.execute_reply": "2024-04-08T16:02:03.676582Z"
        },
        "trusted": true
      },
      "execution_count": null,
      "outputs": []
    },
    {
      "cell_type": "code",
      "source": [
        "plot_metric(MobBiLSTM_model_history, 'loss', 'val_loss', 'Total Loss vs Total Validation Loss')"
      ],
      "metadata": {
        "id": "-YIHQIr13aUB",
        "execution": {
          "iopub.status.busy": "2024-04-08T16:02:08.800882Z",
          "iopub.execute_input": "2024-04-08T16:02:08.801405Z",
          "iopub.status.idle": "2024-04-08T16:02:09.155169Z",
          "shell.execute_reply.started": "2024-04-08T16:02:08.801365Z",
          "shell.execute_reply": "2024-04-08T16:02:09.153667Z"
        },
        "trusted": true
      },
      "execution_count": null,
      "outputs": []
    },
    {
      "cell_type": "code",
      "source": [
        "plot_metric(MobBiLSTM_model_history, 'accuracy', 'val_accuracy', 'Total Loss vs Total Validation Loss')"
      ],
      "metadata": {
        "id": "JUeYKvq23aUB",
        "execution": {
          "iopub.status.busy": "2024-04-08T16:02:12.94614Z",
          "iopub.execute_input": "2024-04-08T16:02:12.946695Z",
          "iopub.status.idle": "2024-04-08T16:02:13.23008Z",
          "shell.execute_reply.started": "2024-04-08T16:02:12.946654Z",
          "shell.execute_reply": "2024-04-08T16:02:13.228518Z"
        },
        "trusted": true
      },
      "execution_count": null,
      "outputs": []
    },
    {
      "cell_type": "markdown",
      "source": [
        "# **Predicting the Test Set**"
      ],
      "metadata": {
        "id": "f8rpSPRGxzLM"
      }
    },
    {
      "cell_type": "code",
      "source": [
        "labels_predict = MoBiLSTM_model.predict(features_test)"
      ],
      "metadata": {
        "id": "BCuJOPWn3aUC",
        "execution": {
          "iopub.status.busy": "2024-04-08T16:02:36.851549Z",
          "iopub.execute_input": "2024-04-08T16:02:36.852035Z",
          "iopub.status.idle": "2024-04-08T16:02:41.648973Z",
          "shell.execute_reply.started": "2024-04-08T16:02:36.851996Z",
          "shell.execute_reply": "2024-04-08T16:02:41.647945Z"
        },
        "trusted": true
      },
      "execution_count": null,
      "outputs": []
    },
    {
      "cell_type": "code",
      "source": [
        "# Decoding the data to use in Metrics\n",
        "labels_predict = np.argmax(labels_predict , axis=1)\n",
        "labels_test_normal = np.argmax(labels_test , axis=1)"
      ],
      "metadata": {
        "id": "6PtV_By23aUC",
        "execution": {
          "iopub.status.busy": "2024-04-08T16:02:44.250789Z",
          "iopub.execute_input": "2024-04-08T16:02:44.251272Z",
          "iopub.status.idle": "2024-04-08T16:02:44.258569Z",
          "shell.execute_reply.started": "2024-04-08T16:02:44.251235Z",
          "shell.execute_reply": "2024-04-08T16:02:44.256995Z"
        },
        "trusted": true
      },
      "execution_count": null,
      "outputs": []
    },
    {
      "cell_type": "code",
      "source": [
        "labels_test_normal.shape , labels_predict.shape"
      ],
      "metadata": {
        "id": "HP-sdFAj3aUC",
        "execution": {
          "iopub.status.busy": "2024-04-08T16:02:48.71135Z",
          "iopub.execute_input": "2024-04-08T16:02:48.71184Z",
          "iopub.status.idle": "2024-04-08T16:02:48.72109Z",
          "shell.execute_reply.started": "2024-04-08T16:02:48.711802Z",
          "shell.execute_reply": "2024-04-08T16:02:48.719596Z"
        },
        "trusted": true
      },
      "execution_count": null,
      "outputs": []
    },
    {
      "cell_type": "markdown",
      "source": [
        "Accuracy Score"
      ],
      "metadata": {
        "id": "JR45ydemygm6"
      }
    },
    {
      "cell_type": "code",
      "source": [
        "from sklearn.metrics import accuracy_score\n",
        "AccScore = accuracy_score(labels_predict, labels_test_normal)\n",
        "print('Accuracy Score is : ', AccScore)"
      ],
      "metadata": {
        "id": "99mVAuNu3aUC",
        "execution": {
          "iopub.status.busy": "2024-04-08T16:02:56.690585Z",
          "iopub.execute_input": "2024-04-08T16:02:56.69107Z",
          "iopub.status.idle": "2024-04-08T16:02:56.701429Z",
          "shell.execute_reply.started": "2024-04-08T16:02:56.691033Z",
          "shell.execute_reply": "2024-04-08T16:02:56.699826Z"
        },
        "trusted": true
      },
      "execution_count": null,
      "outputs": []
    },
    {
      "cell_type": "markdown",
      "source": [
        "Confusion Matrix"
      ],
      "metadata": {
        "id": "FMtS_I_MyiY5"
      }
    },
    {
      "cell_type": "code",
      "source": [
        "import seaborn as sns\n",
        "from sklearn.metrics import confusion_matrix\n",
        "\n",
        "ax= plt.subplot()\n",
        "cm=confusion_matrix(labels_test_normal, labels_predict)\n",
        "sns.heatmap(cm, annot=True, fmt='g', ax=ax);\n",
        "\n",
        "ax.set_xlabel('Predicted labels');ax.set_ylabel('True labels');\n",
        "ax.set_title('Confusion Matrix');\n",
        "ax.xaxis.set_ticklabels(['True', 'False']); ax.yaxis.set_ticklabels(['NonViolence', 'Violence']);"
      ],
      "metadata": {
        "id": "xzg5AVTC3aUD",
        "execution": {
          "iopub.status.busy": "2024-04-08T16:03:03.656522Z",
          "iopub.execute_input": "2024-04-08T16:03:03.658434Z",
          "iopub.status.idle": "2024-04-08T16:03:04.204341Z",
          "shell.execute_reply.started": "2024-04-08T16:03:03.658373Z",
          "shell.execute_reply": "2024-04-08T16:03:04.202593Z"
        },
        "trusted": true
      },
      "execution_count": null,
      "outputs": []
    },
    {
      "cell_type": "markdown",
      "source": [
        "Classification Report"
      ],
      "metadata": {
        "id": "zX8EOmSTypNq"
      }
    },
    {
      "cell_type": "code",
      "source": [
        "from sklearn.metrics import classification_report\n",
        "\n",
        "ClassificationReport = classification_report(labels_test_normal,labels_predict)\n",
        "print('Classification Report is : \\n', ClassificationReport)"
      ],
      "metadata": {
        "id": "pcWhopTm3aUD",
        "execution": {
          "iopub.status.busy": "2024-04-08T16:03:14.837079Z",
          "iopub.execute_input": "2024-04-08T16:03:14.837616Z",
          "iopub.status.idle": "2024-04-08T16:03:14.855818Z",
          "shell.execute_reply.started": "2024-04-08T16:03:14.837576Z",
          "shell.execute_reply": "2024-04-08T16:03:14.854193Z"
        },
        "trusted": true
      },
      "execution_count": null,
      "outputs": []
    },
    {
      "cell_type": "markdown",
      "source": [
        "# **Prediction Frame By Frame**"
      ],
      "metadata": {
        "id": "p9kjBjoN3aUD"
      }
    },
    {
      "cell_type": "code",
      "source": [
        "def predict_frames(video_file_path, output_file_path, SEQUENCE_LENGTH):\n",
        "\n",
        "    # Read from the video file.\n",
        "    video_reader = cv2.VideoCapture(video_file_path)\n",
        "\n",
        "    # Get the width and height of the video.\n",
        "    original_video_width = int(video_reader.get(cv2.CAP_PROP_FRAME_WIDTH))\n",
        "    original_video_height = int(video_reader.get(cv2.CAP_PROP_FRAME_HEIGHT))\n",
        "\n",
        "    # VideoWriter to store the output video in the disk.\n",
        "    video_writer = cv2.VideoWriter(output_file_path, cv2.VideoWriter_fourcc('m', 'p', '4', 'v'),\n",
        "                                    video_reader.get(cv2.CAP_PROP_FPS), (original_video_width, original_video_height))\n",
        "\n",
        "    # Declare a queue to store video frames.\n",
        "    frames_queue = deque(maxlen = SEQUENCE_LENGTH)\n",
        "\n",
        "    # Store the predicted class in the video.\n",
        "    predicted_class_name = ''\n",
        "\n",
        "    # Iterate until the video is accessed successfully.\n",
        "    while video_reader.isOpened():\n",
        "\n",
        "        ok, frame = video_reader.read()\n",
        "\n",
        "        if not ok:\n",
        "            break\n",
        "\n",
        "        # Resize the Frame to fixed Dimensions.\n",
        "        resized_frame = cv2.resize(frame, (IMAGE_HEIGHT, IMAGE_WIDTH))\n",
        "\n",
        "        # Normalize the resized frame\n",
        "        normalized_frame = resized_frame / 255\n",
        "\n",
        "        # Appending the pre-processed frame into the frames list.\n",
        "        frames_queue.append(normalized_frame)\n",
        "\n",
        "        # We Need at Least number of SEQUENCE_LENGTH Frames to perform a prediction.\n",
        "        # Check if the number of frames in the queue are equal to the fixed sequence length.\n",
        "        if len(frames_queue) == SEQUENCE_LENGTH:\n",
        "\n",
        "            # Pass the normalized frames to the model and get the predicted probabilities.\n",
        "            predicted_labels_probabilities = MoBiLSTM_model.predict(np.expand_dims(frames_queue, axis = 0))[0]\n",
        "\n",
        "            # Get the index of class with highest probability.\n",
        "            predicted_label = np.argmax(predicted_labels_probabilities)\n",
        "\n",
        "            # Get the class name using the retrieved index.\n",
        "            predicted_class_name = CLASSES_LIST[predicted_label]\n",
        "\n",
        "        # Write predicted class name on top of the frame.\n",
        "        if predicted_class_name == \"Violence\":\n",
        "            cv2.putText(frame, predicted_class_name, (5, 100), cv2.FONT_HERSHEY_SIMPLEX, 3, (0, 0, 255), 12)\n",
        "        else:\n",
        "            cv2.putText(frame, predicted_class_name, (5, 100), cv2.FONT_HERSHEY_SIMPLEX, 3, (0, 255, 0), 12)\n",
        "\n",
        "        # Write The frame into the disk using the VideoWriter\n",
        "        video_writer.write(frame)\n",
        "\n",
        "    video_reader.release()\n",
        "    video_writer.release()"
      ],
      "metadata": {
        "id": "90aMcgLB3aUD",
        "execution": {
          "iopub.status.busy": "2024-04-08T16:03:29.947404Z",
          "iopub.execute_input": "2024-04-08T16:03:29.947892Z",
          "iopub.status.idle": "2024-04-08T16:03:29.96622Z",
          "shell.execute_reply.started": "2024-04-08T16:03:29.947855Z",
          "shell.execute_reply": "2024-04-08T16:03:29.964193Z"
        },
        "trusted": true
      },
      "execution_count": null,
      "outputs": []
    },
    {
      "cell_type": "code",
      "source": [
        "plt.style.use(\"default\")\n",
        "\n",
        "# To show Random Frames from the saved output predicted video (output predicted video doesn't show on the notebook but can be downloaded)\n",
        "def show_pred_frames(pred_video_path):\n",
        "\n",
        "    plt.figure(figsize=(20,15))\n",
        "\n",
        "    video_reader = cv2.VideoCapture(pred_video_path)\n",
        "\n",
        "    # Get the number of frames in the video.\n",
        "    frames_count = int(video_reader.get(cv2.CAP_PROP_FRAME_COUNT))\n",
        "\n",
        "    # Get Random Frames from the video then Sort it\n",
        "    random_range = sorted(random.sample(range (SEQUENCE_LENGTH , frames_count ), 12))\n",
        "\n",
        "    for counter, random_index in enumerate(random_range, 1):\n",
        "\n",
        "        plt.subplot(5, 4, counter)\n",
        "\n",
        "        # Set the current frame position of the video.\n",
        "        video_reader.set(cv2.CAP_PROP_POS_FRAMES, random_index)\n",
        "\n",
        "        ok, frame = video_reader.read()\n",
        "\n",
        "        if not ok:\n",
        "          break\n",
        "\n",
        "        frame = cv2.cvtColor(frame , cv2.COLOR_BGR2RGB)\n",
        "\n",
        "        plt.imshow(frame);ax.figure.set_size_inches(20,20);plt.tight_layout()\n",
        "\n",
        "    video_reader.release()"
      ],
      "metadata": {
        "id": "RMzc9v5T3aUD",
        "execution": {
          "iopub.status.busy": "2024-04-08T16:03:41.910916Z",
          "iopub.execute_input": "2024-04-08T16:03:41.911412Z",
          "iopub.status.idle": "2024-04-08T16:03:41.926542Z",
          "shell.execute_reply.started": "2024-04-08T16:03:41.911376Z",
          "shell.execute_reply": "2024-04-08T16:03:41.925134Z"
        },
        "trusted": true
      },
      "execution_count": null,
      "outputs": []
    },
    {
      "cell_type": "code",
      "source": [
        "# Construct the output video path.\n",
        "test_videos_directory = 'test_videos'\n",
        "os.makedirs(test_videos_directory, exist_ok = True)\n",
        "\n",
        "output_video_file_path = f'{test_videos_directory}/Output-Test-Video.mp4'"
      ],
      "metadata": {
        "id": "TLoHFIZG1nfx",
        "execution": {
          "iopub.status.busy": "2024-04-08T16:03:52.861237Z",
          "iopub.execute_input": "2024-04-08T16:03:52.861775Z",
          "iopub.status.idle": "2024-04-08T16:03:52.868395Z",
          "shell.execute_reply.started": "2024-04-08T16:03:52.861736Z",
          "shell.execute_reply": "2024-04-08T16:03:52.86713Z"
        },
        "trusted": true
      },
      "execution_count": null,
      "outputs": []
    },
    {
      "cell_type": "code",
      "source": [
        "# Specifying video to be predicted\n",
        "input_video_file_path = \"../input/real-life-violence-situations-dataset/Real Life Violence Dataset/Violence/V_378.mp4\"\n",
        "\n",
        "# Perform Prediction on the Test Video.\n",
        "predict_frames(input_video_file_path, output_video_file_path, SEQUENCE_LENGTH)\n",
        "\n",
        "# Show random frames from the output video\n",
        "show_pred_frames(output_video_file_path)"
      ],
      "metadata": {
        "id": "zXBFNGU83aUE",
        "execution": {
          "iopub.status.busy": "2024-04-08T16:03:58.056274Z",
          "iopub.execute_input": "2024-04-08T16:03:58.056816Z",
          "iopub.status.idle": "2024-04-08T16:04:17.317154Z",
          "shell.execute_reply.started": "2024-04-08T16:03:58.056775Z",
          "shell.execute_reply": "2024-04-08T16:04:17.314919Z"
        },
        "trusted": true
      },
      "execution_count": null,
      "outputs": []
    },
    {
      "cell_type": "code",
      "source": [
        "# Play the actual video\n",
        "Play_Video(input_video_file_path)"
      ],
      "metadata": {
        "id": "lYbKAUan3aUE",
        "execution": {
          "iopub.status.busy": "2024-04-08T16:04:24.160948Z",
          "iopub.execute_input": "2024-04-08T16:04:24.161775Z",
          "iopub.status.idle": "2024-04-08T16:04:24.188104Z",
          "shell.execute_reply.started": "2024-04-08T16:04:24.161735Z",
          "shell.execute_reply": "2024-04-08T16:04:24.186714Z"
        },
        "trusted": true
      },
      "execution_count": null,
      "outputs": []
    },
    {
      "cell_type": "code",
      "source": [
        "# Specifying video to be predicted\n",
        "input_video_file_path = \"../input/real-life-violence-situations-dataset/Real Life Violence Dataset/NonViolence/NV_1.mp4\"\n",
        "\n",
        "# Perform Prediction on the Test Video.\n",
        "predict_frames(input_video_file_path, output_video_file_path, SEQUENCE_LENGTH)\n",
        "\n",
        "# Show random frames from the output video\n",
        "show_pred_frames(output_video_file_path)"
      ],
      "metadata": {
        "id": "aNOREFYZevVa",
        "execution": {
          "iopub.status.busy": "2024-04-08T16:04:33.98721Z",
          "iopub.execute_input": "2024-04-08T16:04:33.987993Z",
          "iopub.status.idle": "2024-04-08T16:04:51.144651Z",
          "shell.execute_reply.started": "2024-04-08T16:04:33.987952Z",
          "shell.execute_reply": "2024-04-08T16:04:51.142787Z"
        },
        "trusted": true
      },
      "execution_count": null,
      "outputs": []
    },
    {
      "cell_type": "code",
      "source": [
        "# Play the actual video\n",
        "Play_Video(input_video_file_path)"
      ],
      "metadata": {
        "id": "WqM0I5jueyKx",
        "execution": {
          "iopub.status.busy": "2022-09-29T09:06:13.084402Z",
          "iopub.execute_input": "2022-09-29T09:06:13.084823Z",
          "iopub.status.idle": "2022-09-29T09:06:13.326856Z",
          "shell.execute_reply.started": "2022-09-29T09:06:13.084791Z",
          "shell.execute_reply": "2022-09-29T09:06:13.323179Z"
        },
        "trusted": true
      },
      "execution_count": null,
      "outputs": []
    },
    {
      "cell_type": "markdown",
      "source": [
        "# **Prediction For The Video**"
      ],
      "metadata": {
        "id": "Q4-IYON63aUE"
      }
    },
    {
      "cell_type": "code",
      "source": [
        "def predict_video(video_file_path, SEQUENCE_LENGTH):\n",
        "\n",
        "    video_reader = cv2.VideoCapture(video_file_path)\n",
        "\n",
        "    # Get the width and height of the video.\n",
        "    original_video_width = int(video_reader.get(cv2.CAP_PROP_FRAME_WIDTH))\n",
        "    original_video_height = int(video_reader.get(cv2.CAP_PROP_FRAME_HEIGHT))\n",
        "\n",
        "    # Declare a list to store video frames we will extract.\n",
        "    frames_list = []\n",
        "\n",
        "    # Store the predicted class in the video.\n",
        "    predicted_class_name = ''\n",
        "\n",
        "    # Get the number of frames in the video.\n",
        "    video_frames_count = int(video_reader.get(cv2.CAP_PROP_FRAME_COUNT))\n",
        "\n",
        "    # Calculate the interval after which frames will be added to the list.\n",
        "    skip_frames_window = max(int(video_frames_count/SEQUENCE_LENGTH),1)\n",
        "\n",
        "    # Iterating the number of times equal to the fixed length of sequence.\n",
        "    for frame_counter in range(SEQUENCE_LENGTH):\n",
        "\n",
        "        # Set the current frame position of the video.\n",
        "        video_reader.set(cv2.CAP_PROP_POS_FRAMES, frame_counter * skip_frames_window)\n",
        "\n",
        "        success, frame = video_reader.read()\n",
        "\n",
        "        if not success:\n",
        "            break\n",
        "\n",
        "        # Resize the Frame to fixed Dimensions.\n",
        "        resized_frame = cv2.resize(frame, (IMAGE_HEIGHT, IMAGE_WIDTH))\n",
        "\n",
        "        # Normalize the resized frame.\n",
        "        normalized_frame = resized_frame / 255\n",
        "\n",
        "        # Appending the pre-processed frame into the frames list\n",
        "        frames_list.append(normalized_frame)\n",
        "\n",
        "    # Passing the  pre-processed frames to the model and get the predicted probabilities.\n",
        "    predicted_labels_probabilities = MoBiLSTM_model.predict(np.expand_dims(frames_list, axis = 0))[0]\n",
        "\n",
        "    # Get the index of class with highest probability.\n",
        "    predicted_label = np.argmax(predicted_labels_probabilities)\n",
        "\n",
        "    # Get the class name using the retrieved index.\n",
        "    predicted_class_name = CLASSES_LIST[predicted_label]\n",
        "\n",
        "    # Display the predicted class along with the prediction confidence.\n",
        "    print(f'Predicted: {predicted_class_name}\\nConfidence: {predicted_labels_probabilities[predicted_label]}')\n",
        "\n",
        "    video_reader.release()"
      ],
      "metadata": {
        "execution": {
          "iopub.status.busy": "2022-09-26T13:48:33.863461Z",
          "iopub.execute_input": "2022-09-26T13:48:33.863852Z",
          "iopub.status.idle": "2022-09-26T13:48:33.876001Z",
          "shell.execute_reply.started": "2022-09-26T13:48:33.863821Z",
          "shell.execute_reply": "2022-09-26T13:48:33.874856Z"
        },
        "id": "p4gjtz-73aUE",
        "trusted": true
      },
      "execution_count": null,
      "outputs": []
    },
    {
      "cell_type": "code",
      "source": [
        "# Specifying video to be predicted\n",
        "input_video_file_path = \"../input/real-life-violence-situations-dataset/Real Life Violence Dataset/Violence/V_276.mp4\"\n",
        "\n",
        "# Perform Single Prediction on the Test Video.\n",
        "predict_video(input_video_file_path, SEQUENCE_LENGTH)\n",
        "\n",
        "# Play the actual video\n",
        "Play_Video(input_video_file_path)"
      ],
      "metadata": {
        "execution": {
          "iopub.status.busy": "2022-09-26T13:48:33.887126Z",
          "iopub.execute_input": "2022-09-26T13:48:33.887493Z",
          "iopub.status.idle": "2022-09-26T13:48:35.834043Z",
          "shell.execute_reply.started": "2022-09-26T13:48:33.887464Z",
          "shell.execute_reply": "2022-09-26T13:48:35.831821Z"
        },
        "id": "O6DQ5V-b3aUF",
        "trusted": true
      },
      "execution_count": null,
      "outputs": []
    },
    {
      "cell_type": "code",
      "source": [
        "# Specifying video to be predicted\n",
        "input_video_file_path = \"../input/real-life-violence-situations-dataset/Real Life Violence Dataset/NonViolence/NV_23.mp4\"\n",
        "\n",
        "# Perform Single Prediction on the Test Video.\n",
        "predict_video(input_video_file_path, SEQUENCE_LENGTH)\n",
        "\n",
        "# Play the actual video\n",
        "Play_Video(input_video_file_path)"
      ],
      "metadata": {
        "id": "nxwWGvUg3aUF"
      },
      "execution_count": null,
      "outputs": []
    }
  ]
}